{
 "cells": [
  {
   "cell_type": "code",
   "execution_count": 4,
   "id": "01acc0b9-84e4-4dee-a17d-42a1758c96be",
   "metadata": {},
   "outputs": [
    {
     "name": "stdout",
     "output_type": "stream",
     "text": [
      "split for positive reviews:\n",
      "No. of training examples : 604\n",
      "No. of testing examples: 296\n",
      "\n",
      "split for negative reviews:\n",
      "No. of training examples : 639\n",
      "No. of testing examples: 261\n"
     ]
    }
   ],
   "source": [
    "import os\n",
    "from random import shuffle\n",
    "from math import floor \n",
    "import numpy as np\n",
    "import pandas as pd\n",
    "inputPos = r'D:\\movieSemantics\\movieSemantics\\pos' #use your own directories\n",
    "inputNeg =r'D:\\movieSemantics\\movieSemantics\\neg'\n",
    "#read all files in a directory for pos reviews\n",
    "def get_file_from_dir(datadir):\n",
    "    all_files = os.listdir(os.path.abspath(datadir))\n",
    "    data_files = list(filter(lambda file: file.endswith('.txt'), all_files))\n",
    "    return data_files\n",
    "\n",
    "def split_train_test (files):\n",
    "    df = pd.DataFrame(files)\n",
    "    # approximate 7:3 ratio between training and test split\n",
    "    mask = np.random.rand(len(df)) <=.7\n",
    "    training_data = df[mask] #70% extracted\n",
    "    testing_data = df[~mask] #remaining 30% extracted\n",
    "\n",
    "    print(f\"No. of training examples : {training_data.shape[0]}\")\n",
    "    print(f\"No. of testing examples: {testing_data.shape[0]}\")\n",
    "\n",
    "#convert txt files into dataframe\n",
    "posReviews = get_file_from_dir(inputPos)\n",
    "negReviews = get_file_from_dir(inputNeg)\n",
    "\n",
    "print(\"split for positive reviews:\")\n",
    "split_train_test(posReviews)\n",
    "print(\"\\nsplit for negative reviews:\")\n",
    "split_train_test(negReviews)\n",
    "\n"
   ]
  },
  {
   "cell_type": "code",
   "execution_count": null,
   "id": "1e9b7199-45c6-4acb-9b30-205837513b79",
   "metadata": {},
   "outputs": [],
   "source": []
  }
 ],
 "metadata": {
  "kernelspec": {
   "display_name": "Python 3",
   "language": "python",
   "name": "python3"
  },
  "language_info": {
   "codemirror_mode": {
    "name": "ipython",
    "version": 3
   },
   "file_extension": ".py",
   "mimetype": "text/x-python",
   "name": "python",
   "nbconvert_exporter": "python",
   "pygments_lexer": "ipython3",
   "version": "3.8.8"
  }
 },
 "nbformat": 4,
 "nbformat_minor": 5
}
